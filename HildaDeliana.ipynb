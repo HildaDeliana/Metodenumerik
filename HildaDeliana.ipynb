{
  "nbformat": 4,
  "nbformat_minor": 0,
  "metadata": {
    "colab": {
      "provenance": [],
      "authorship_tag": "ABX9TyM1YW2NPiexO3kRBxjNKVje",
      "include_colab_link": true
    },
    "kernelspec": {
      "name": "python3",
      "display_name": "Python 3"
    },
    "language_info": {
      "name": "python"
    }
  },
  "cells": [
    {
      "cell_type": "markdown",
      "metadata": {
        "id": "view-in-github",
        "colab_type": "text"
      },
      "source": [
        "<a href=\"https://colab.research.google.com/github/HildaDeliana/Metodenumerik/blob/main/HildaDeliana.ipynb\" target=\"_parent\"><img src=\"https://colab.research.google.com/assets/colab-badge.svg\" alt=\"Open In Colab\"/></a>"
      ]
    },
    {
      "cell_type": "code",
      "execution_count": null,
      "metadata": {
        "id": "yOtP0qYkk_DF"
      },
      "outputs": [],
      "source": [
        "import math\n",
        "\n",
        "def approx_e_to_the_power_of_5x(x):\n",
        "    approximation = 0\n",
        "    for n in range(5):\n",
        "        approximation += (5 ** n) * (x - 2) ** n / math.factorial(n)\n",
        "    return approximation\n",
        "\n",
        "x_values = [0, 1, 2, 3, 4]\n",
        "\n",
        "for x in x_values:\n",
        "    approx_value = approx_e_to_the_power_of_5x(x)\n",
        "    print(f'f({x}) ≈ {approx_value}')"
      ]
    },
    {
      "cell_type": "markdown",
      "source": [
        "Nama : Hilda Deliana\n",
        "Nim : 20220040112\n",
        "Kelas : TI22H"
      ],
      "metadata": {
        "id": "j4J-3UnsnjEX"
      }
    },
    {
      "cell_type": "code",
      "source": [
        "import math\n",
        "\n",
        "def approx_function(x):\n",
        "    cos_approximation = 0\n",
        "    sin_approximation = 0\n",
        "    for n in range(5):\n",
        "        cos_approximation += ((-1) ** n) * (x ** (2 * n)) / math.factorial(2 * n)\n",
        "        sin_approximation += ((-1) ** n) * (x ** (2 * n + 1)) / math.factorial(2 * n + 1)\n",
        "    return 2 * cos_approximation + sin_approximation\n",
        "\n",
        "x_values = [-6, -3, 0, 3, 6]\n",
        "\n",
        "for x in x_values:\n",
        "    approx_value = approx_function(x)\n",
        "    print(f'f({x}) ≈ {approx_value}')"
      ],
      "metadata": {
        "colab": {
          "base_uri": "https://localhost:8080/"
        },
        "id": "M5UGnXBAmZZE",
        "outputId": "e0bf84af-4caa-45fa-9294-2fcdd91631c2"
      },
      "execution_count": null,
      "outputs": [
        {
          "output_type": "stream",
          "name": "stdout",
          "text": [
            "f(-6) ≈ 20.685714285714297\n",
            "f(-3) ≈ -2.094866071428571\n",
            "f(0) ≈ 2.0\n",
            "f(3) ≈ -1.8042410714285715\n",
            "f(6) ≈ 34.74285714285715\n"
          ]
        }
      ]
    },
    {
      "cell_type": "code",
      "source": [
        "import math\n",
        "\n",
        "def approximate_exp_5x(x, n):\n",
        "    approx = 0\n",
        "    for i in range(n):\n",
        "        approx += ((5*x)**i) / math.factorial(i)\n",
        "    return approx\n",
        "\n",
        "x = 2  # Titik x\n",
        "n = 5  # Jumlah suku dalam deret\n",
        "\n",
        "# Memeriksa apakah x berada dalam selang [0, 4]\n",
        "if x >= 0 and x <= 4:\n",
        "    approximation = approximate_exp_5x(x, n)\n",
        "    exact_value = math.exp(5 * x)\n",
        "\n",
        "    print(f'x = {x}')\n",
        "    print(f'Hasil pendekatan (deret Taylor): {approximation}')\n",
        "    print(f'Hasil eksak (math.exp(5*x)): {exact_value}')\n",
        "    print(f'Error relatif: {abs(approximation - exact_value)/exact_value * 100}%')\n",
        "else:\n",
        "    print(\"x tidak berada dalam selang [0, 4]\")"
      ],
      "metadata": {
        "colab": {
          "base_uri": "https://localhost:8080/"
        },
        "id": "3svse2QjnOOK",
        "outputId": "6a92b2b5-bdd2-469a-fae7-a214927ff5ca"
      },
      "execution_count": null,
      "outputs": [
        {
          "output_type": "stream",
          "name": "stdout",
          "text": [
            "x = 2\n",
            "Hasil pendekatan (deret Taylor): 644.3333333333334\n",
            "Hasil eksak (math.exp(5*x)): 22026.465794806718\n",
            "Error relatif: 97.0747311923039%\n"
          ]
        }
      ]
    },
    {
      "cell_type": "code",
      "source": [
        "import math\n",
        "\n",
        "def approximate_function(x, n):\n",
        "    approx = 0\n",
        "    for i in range(n):\n",
        "        if i % 2 == 0:\n",
        "            term = (-1)**(i // 2) * (x**i) / math.factorial(i)\n",
        "        else:\n",
        "            term = (-1)**((i - 1) // 2) * (2 * x**i) / math.factorial(i)\n",
        "        approx += term\n",
        "    return approx\n",
        "\n",
        "x = 0  # Titik x\n",
        "n = 5  # Jumlah suku dalam deret\n",
        "\n",
        "# Memeriksa apakah x berada dalam selang [-6, 6]\n",
        "if x >= -6 and x <= 6:\n",
        "    approximation = approximate_function(x, n)\n",
        "    exact_value = 2 * math.cos(x) + math.sin(2 * x)\n",
        "\n",
        "    print(f'x = {x}')\n",
        "    print(f'Hasil pendekatan (deret Taylor): {approximation}')\n",
        "    print(f'Hasil eksak (2*cos(x) + sin(2x)): {exact_value}')\n",
        "    print(f'Error relatif: {abs(approximation - exact_value)/exact_value * 100}%')\n",
        "else:\n",
        "    print(\"x tidak berada dalam selang [-6, 6]\")"
      ],
      "metadata": {
        "colab": {
          "base_uri": "https://localhost:8080/"
        },
        "id": "IsMqJbLKnckH",
        "outputId": "206d30e8-1fc0-4553-a76b-910a53ebc7cb"
      },
      "execution_count": null,
      "outputs": [
        {
          "output_type": "stream",
          "name": "stdout",
          "text": [
            "x = 0\n",
            "Hasil pendekatan (deret Taylor): 1.0\n",
            "Hasil eksak (2*cos(x) + sin(2x)): 2.0\n",
            "Error relatif: 50.0%\n"
          ]
        }
      ]
    }
  ]
}