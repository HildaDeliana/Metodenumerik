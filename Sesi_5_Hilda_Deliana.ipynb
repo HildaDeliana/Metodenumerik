{
  "nbformat": 4,
  "nbformat_minor": 0,
  "metadata": {
    "colab": {
      "provenance": [],
      "authorship_tag": "ABX9TyNUJE05kcokAldWHzUISkt0",
      "include_colab_link": true
    },
    "kernelspec": {
      "name": "python3",
      "display_name": "Python 3"
    },
    "language_info": {
      "name": "python"
    }
  },
  "cells": [
    {
      "cell_type": "markdown",
      "metadata": {
        "id": "view-in-github",
        "colab_type": "text"
      },
      "source": [
        "<a href=\"https://colab.research.google.com/github/HildaDeliana/Metodenumerik/blob/main/Sesi_5_Hilda_Deliana.ipynb\" target=\"_parent\"><img src=\"https://colab.research.google.com/assets/colab-badge.svg\" alt=\"Open In Colab\"/></a>"
      ]
    },
    {
      "cell_type": "markdown",
      "source": [
        "Nama : Hilda Deliana A\n",
        "Nim : 20220040112\n",
        "Kelas : TI22H"
      ],
      "metadata": {
        "id": "BWahAHrmGXbR"
      }
    },
    {
      "cell_type": "code",
      "source": [
        "from google.colab import drive\n",
        "drive.mount('/content/drive')"
      ],
      "metadata": {
        "id": "XGIXz6T5IJE2"
      },
      "execution_count": null,
      "outputs": []
    },
    {
      "cell_type": "code",
      "source": [
        "\n",
        "import math\n",
        "\n",
        "def f(x):\n",
        "    return math.exp(x) - x - 2\n",
        "\n",
        "def f_prime(x):\n",
        "    return math.exp(x) - 1\n",
        "\n",
        "def newton_raphson(x0, tolerance):\n",
        "    iteration = 0\n",
        "    while True:\n",
        "        x1 = x0 - f(x0) / f_prime(x0)\n",
        "        iteration += 1\n",
        "        if abs(x1 - x0) < tolerance:\n",
        "            return x1, iteration\n",
        "        x0 = x1\n",
        "\n",
        "x0_1 = -10\n",
        "x0_2 = 10\n",
        "tolerance = 0.000001\n",
        "\n",
        "root_1, iterations_1 = newton_raphson(x0_1, tolerance)\n",
        "root_2, iterations_2 = newton_raphson(x0_2, tolerance)\n",
        "\n",
        "print(\"Akar pertama:\", root_1)\n",
        "print(\"Iterasi yang diperlukan (x0 = -10):\", iterations_1)\n",
        "print(\"Akar kedua:\", root_2)\n",
        "print(\"Iterasi yang diperlukan (x0 = 10):\", iterations_2)"
      ],
      "metadata": {
        "colab": {
          "base_uri": "https://localhost:8080/"
        },
        "id": "JCegiqFuGkB6",
        "outputId": "e6c3b17f-85c9-4a81-d175-66685a0b28db"
      },
      "execution_count": null,
      "outputs": [
        {
          "output_type": "stream",
          "name": "stdout",
          "text": [
            "Akar pertama: -1.841405660436976\n",
            "Iterasi yang diperlukan (x0 = -10): 4\n",
            "Akar kedua: 1.1461932206205832\n",
            "Iterasi yang diperlukan (x0 = 10): 14\n"
          ]
        }
      ]
    }
  ]
}