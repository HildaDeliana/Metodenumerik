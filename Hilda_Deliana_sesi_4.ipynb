{
  "nbformat": 4,
  "nbformat_minor": 0,
  "metadata": {
    "colab": {
      "provenance": [],
      "authorship_tag": "ABX9TyMvZAKgr/Lbx8MzCfIVf+Cr",
      "include_colab_link": true
    },
    "kernelspec": {
      "name": "python3",
      "display_name": "Python 3"
    },
    "language_info": {
      "name": "python"
    }
  },
  "cells": [
    {
      "cell_type": "markdown",
      "metadata": {
        "id": "view-in-github",
        "colab_type": "text"
      },
      "source": [
        "<a href=\"https://colab.research.google.com/github/HildaDeliana/Metodenumerik/blob/main/Hilda_Deliana_sesi_4.ipynb\" target=\"_parent\"><img src=\"https://colab.research.google.com/assets/colab-badge.svg\" alt=\"Open In Colab\"/></a>"
      ]
    },
    {
      "cell_type": "markdown",
      "source": [
        "Nama : Hilda Deliana\n",
        "Nim : 20220040112\n",
        "Kelas : Ti22H"
      ],
      "metadata": {
        "id": "17KdoVu9p3jo"
      }
    },
    {
      "cell_type": "code",
      "source": [
        "import math\n",
        "\n",
        "# definisi fungsi\n",
        "def f(x):\n",
        "    return math.exp(x) - 2 - x\n",
        "\n",
        "# metode bagi dua\n",
        "def bisection(a, b, tol):\n",
        "    fa = f(a)\n",
        "    fb = f(b)\n",
        "    if fa * fb > 0:\n",
        "        return None\n",
        "    while (b - a) / 2 > tol:\n",
        "        c = (a + b) / 2\n",
        "        fc = f(c)\n",
        "        if fc == 0:\n",
        "            return c\n",
        "        if fa * fc < 0:\n",
        "            b = c\n",
        "            fb = fc\n",
        "        else:\n",
        "            a = c\n",
        "            fa = fc\n",
        "    return (a + b) / 2\n",
        "\n",
        "# metode regula falsi\n",
        "def regula_falsi(a, b, tol):\n",
        "    fa = f(a)\n",
        "    fb = f(b)\n",
        "    if fa * fb > 0:\n",
        "        return None\n",
        "    while abs(b - a) > tol:\n",
        "        c = (a * f(b) - b * f(a)) / (f(b) - f(a))\n",
        "        fc = f(c)\n",
        "        if fc == 0:\n",
        "            return c\n",
        "        if fa * fc < 0:\n",
        "            b = c\n",
        "            fb = fc\n",
        "        else:\n",
        "            a = c\n",
        "            fa = fc\n",
        "    return (a + b) / 2\n",
        "\n",
        "# metode titik tetap\n",
        "def fixed_point(x0, tol):\n",
        "    g = lambda x: math.log(2 + x)\n",
        "    x1 = g(x0)\n",
        "    while abs(x1 - x0) > tol:\n",
        "        x0 = x1\n",
        "        x1 = g(x0)\n",
        "    return x1\n",
        "\n",
        "# interval dan toleransi\n",
        "a = 0.5\n",
        "b = 2\n",
        "tol = 1e-6\n",
        "\n",
        "# mencari akar menggunakan metode bagi dua\n",
        "akar_bisection = bisection(a, b, tol)\n",
        "print(\"Akar menggunakan metode bagi dua: \", akar_bisection)\n",
        "\n",
        "# mencari akar menggunakan metode regula falsi\n",
        "akar_regula_falsi = regula_falsi(a, b, tol)\n",
        "print(\"Akar menggunakan metode regula falsi: \", akar_regula_falsi)\n",
        "\n",
        "# mencari akar menggunakan metode titik tetap\n",
        "akar_fixed_point = fixed_point(a, tol)\n",
        "print(\"Akar menggunakan metode titik tetap: \", akar_fixed_point)"
      ],
      "metadata": {
        "colab": {
          "base_uri": "https://localhost:8080/"
        },
        "id": "Ggc8xoIVrVZE",
        "outputId": "41391cc1-8889-4477-b247-8ccc7208cd8c"
      },
      "execution_count": null,
      "outputs": [
        {
          "output_type": "stream",
          "name": "stdout",
          "text": [
            "Akar menggunakan metode bagi dua:  1.1461927890777588\n",
            "Akar menggunakan metode regula falsi:  1.1461932206205825\n",
            "Akar menggunakan metode titik tetap:  1.1461929622385467\n"
          ]
        }
      ]
    }
  ]
}