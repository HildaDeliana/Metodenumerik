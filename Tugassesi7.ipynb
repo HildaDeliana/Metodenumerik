{
  "nbformat": 4,
  "nbformat_minor": 0,
  "metadata": {
    "colab": {
      "provenance": [],
      "authorship_tag": "ABX9TyOA8JZauOuNNl3ofoDHCPuH",
      "include_colab_link": true
    },
    "kernelspec": {
      "name": "python3",
      "display_name": "Python 3"
    },
    "language_info": {
      "name": "python"
    }
  },
  "cells": [
    {
      "cell_type": "markdown",
      "metadata": {
        "id": "view-in-github",
        "colab_type": "text"
      },
      "source": [
        "<a href=\"https://colab.research.google.com/github/HildaDeliana/Metodenumerik/blob/main/Tugassesi7.ipynb\" target=\"_parent\"><img src=\"https://colab.research.google.com/assets/colab-badge.svg\" alt=\"Open In Colab\"/></a>"
      ]
    },
    {
      "cell_type": "markdown",
      "source": [
        "Nama : Hilda Deliana\n",
        "Nim : 20220040112"
      ],
      "metadata": {
        "id": "GX1TxDYVhacD"
      }
    },
    {
      "cell_type": "code",
      "execution_count": null,
      "metadata": {
        "colab": {
          "base_uri": "https://localhost:8080/"
        },
        "id": "217faxaQhQgG",
        "outputId": "2dbc67c4-ab6f-4377-c55c-30936a351797"
      },
      "outputs": [
        {
          "output_type": "stream",
          "name": "stdout",
          "text": [
            "Solusi dengan metode Jacobi: [-3891039858312722944 -8756322289070931968  1308031395483958272]\n",
            "Solusi dengan metode Gauss-Seidel: [ -495969925917492032 -3483281441565059072   746827878911891712]\n"
          ]
        },
        {
          "output_type": "stream",
          "name": "stderr",
          "text": [
            "<ipython-input-1-3449fa73c64a>:36: RuntimeWarning: overflow encountered in long_scalars\n",
            "  x[i] = (B[i] - np.dot(A[i, :i], x[:i]) - np.dot(A[i, i + 1:], x[i + 1:])) / A[i, i]\n"
          ]
        }
      ],
      "source": [
        "\n",
        "import numpy as np\n",
        "\n",
        "# Definisikan matriks koefisien A dan vektor hasil B\n",
        "A = np.array([[2, 8, -1],\n",
        "              [5, -1, 1],\n",
        "              [-1, 1, 4]])\n",
        "\n",
        "B = np.array([11, 10, 3])\n",
        "\n",
        "# Inisialisasi solusi awal\n",
        "x0 = np.array([0, 0, 0])\n",
        "\n",
        "# Jumlah iterasi maksimum\n",
        "max_iter = 1000\n",
        "\n",
        "# Toleransi konvergensi\n",
        "tolerance = 1e-6\n",
        "\n",
        "def jacobi_method(A, B, x0, max_iter, tolerance):\n",
        "    n = len(B)\n",
        "    x = x0.copy()\n",
        "    for k in range(max_iter):\n",
        "        x_new = np.zeros_like(x)\n",
        "        for i in range(n):\n",
        "            x_new[i] = (B[i] - np.dot(A[i, :n], x)) / A[i, i]\n",
        "        if np.all(np.abs(x_new - x) < tolerance):\n",
        "            return x_new\n",
        "        x = x_new\n",
        "    return x\n",
        "\n",
        "def gauss_seidel_method(A, B, x0, max_iter, tolerance):\n",
        "    n = len(B)\n",
        "    x = x0.copy()\n",
        "    for k in range(max_iter):\n",
        "        for i in range(n):\n",
        "            x[i] = (B[i] - np.dot(A[i, :i], x[:i]) - np.dot(A[i, i + 1:], x[i + 1:])) / A[i, i]\n",
        "        if np.all(np.abs(A @ x - B) < tolerance):\n",
        "            return x\n",
        "    return x\n",
        "\n",
        "# Solusi dengan metode Jacobi\n",
        "sol_jacobi = jacobi_method(A, B, x0, max_iter, tolerance)\n",
        "print(\"Solusi dengan metode Jacobi:\", sol_jacobi)\n",
        "\n",
        "# Solusi dengan metode Gauss-Seidel\n",
        "sol_gauss_seidel = gauss_seidel_method(A, B, x0, max_iter, tolerance)\n",
        "print(\"Solusi dengan metode Gauss-Seidel:\", sol_gauss_seidel)"
      ]
    }
  ]
}