{
  "nbformat": 4,
  "nbformat_minor": 0,
  "metadata": {
    "colab": {
      "provenance": [],
      "authorship_tag": "ABX9TyN7dP5kLJGJZFIqe6Zn0FMe",
      "include_colab_link": true
    },
    "kernelspec": {
      "name": "python3",
      "display_name": "Python 3"
    },
    "language_info": {
      "name": "python"
    }
  },
  "cells": [
    {
      "cell_type": "markdown",
      "metadata": {
        "id": "view-in-github",
        "colab_type": "text"
      },
      "source": [
        "<a href=\"https://colab.research.google.com/github/HildaDeliana/Metodenumerik/blob/main/Salinan_dari_Metode_numerik_sesi_11.ipynb\" target=\"_parent\"><img src=\"https://colab.research.google.com/assets/colab-badge.svg\" alt=\"Open In Colab\"/></a>"
      ]
    },
    {
      "cell_type": "markdown",
      "source": [
        "Nama :Hilda Deliana A                            Nim : 20220040112           \n",
        "Kelas : TI22H"
      ],
      "metadata": {
        "id": "Ir49v8IkHBbz"
      }
    },
    {
      "cell_type": "markdown",
      "source": [],
      "metadata": {
        "id": "RvrFX23tGs9b"
      }
    },
    {
      "cell_type": "code",
      "source": [
        "import math\n",
        "\n",
        "def f(x):\n",
        "    return 2 * math.exp(x)\n",
        "\n",
        "def selisih_maju(f, x, h):\n",
        "    return (f(x + h) - f(x)) / h\n",
        "\n",
        "def selisih_mundur(f, x, h):\n",
        "    return (f(x) - f(x - h)) / h\n",
        "\n",
        "def selisih_pusat(f, x, h):\n",
        "    return (f(x + h) - f(x - h)) / (2 * h)\n",
        "\n",
        "def turunan_pertama_dan_kedua(x_value, h_values):\n",
        "    result = {}\n",
        "    for h in h_values:\n",
        "        f_prime_forward = selisih_maju(f, x_value, h)\n",
        "        f_prime_backward = selisih_mundur(f, x_value, h)\n",
        "        f_prime_centered = selisih_pusat(f, x_value, h)\n",
        "\n",
        "        f_double_prime_forward = selisih_maju(lambda x: f_prime_forward, x_value, h)\n",
        "        f_double_prime_backward = selisih_mundur(lambda x: f_prime_backward, x_value, h)\n",
        "        f_double_prime_centered = selisih_pusat(lambda x: f_prime_centered, x_value, h)\n",
        "\n",
        "        result[h] = {\n",
        "            'h': h,\n",
        "            'f_prime_forward': f_prime_forward,\n",
        "            'f_prime_backward': f_prime_backward,\n",
        "            'f_prime_centered': f_prime_centered,\n",
        "            'f_double_prime_forward': f_double_prime_forward,\n",
        "            'f_double_prime_backward': f_double_prime_backward,\n",
        "            'f_double_prime_centered': f_double_prime_centered,\n",
        "        }\n",
        "\n",
        "    return result\n",
        "\n",
        "# Titik evaluasi\n",
        "x_value = 1\n",
        "\n",
        "# Nilai h yang akan diuji\n",
        "h_values = [0.1, 0.01, 0.001, 0.0001]\n",
        "\n",
        "# Hitung turunan pertama dan kedua\n",
        "result = turunan_pertama_dan_kedua(x_value, h_values)\n",
        "\n",
        "# Tampilkan hasil\n",
        "for h in h_values:\n",
        "    print(f\"\\nNilai h = {h}\")\n",
        "    print(f\"Turunan Pertama:\")\n",
        "    print(f\"Selisih Maju: {result[h]['f_prime_forward']}\")\n",
        "    print(f\"Selisih Mundur: {result[h]['f_prime_backward']}\")\n",
        "    print(f\"Selisih Pusat: {result[h]['f_prime_centered']}\")\n",
        "\n",
        "    print(f\"\\nTurunan Kedua:\")\n",
        "    print(f\"Selisih Maju: {result[h]['f_double_prime_forward']}\")\n",
        "    print(f\"Selisih Mundur: {result[h]['f_double_prime_backward']}\")\n",
        "    print(f\"Selisih Pusat: {result[h]['f_double_prime_centered']}\")"
      ],
      "metadata": {
        "colab": {
          "base_uri": "https://localhost:8080/"
        },
        "id": "QZaan4gkHQE4",
        "outputId": "33eb9e8c-c55d-4352-90fe-4ca3b9e22c2b"
      },
      "execution_count": null,
      "outputs": [
        {
          "output_type": "stream",
          "name": "stdout",
          "text": [
            "\n",
            "Nilai h = 0.1\n",
            "Turunan Pertama:\n",
            "Selisih Maju: 5.717683909747766\n",
            "Selisih Mundur: 5.173574346041905\n",
            "Selisih Pusat: 5.445629127894835\n",
            "\n",
            "Turunan Kedua:\n",
            "Selisih Maju: 0.0\n",
            "Selisih Mundur: 0.0\n",
            "Selisih Pusat: 0.0\n",
            "\n",
            "Nilai h = 0.01\n",
            "Turunan Pertama:\n",
            "Selisih Maju: 5.463837311574249\n",
            "Selisih Mundur: 5.409471221956608\n",
            "Selisih Pusat: 5.436654266765428\n",
            "\n",
            "Turunan Kedua:\n",
            "Selisih Maju: 0.0\n",
            "Selisih Mundur: 0.0\n",
            "Selisih Pusat: 0.0\n",
            "\n",
            "Nilai h = 0.001\n",
            "Turunan Pertama:\n",
            "Selisih Maju: 5.439282845066451\n",
            "Selisih Mundur: 5.433846280956445\n",
            "Selisih Pusat: 5.436564563011448\n",
            "\n",
            "Turunan Kedua:\n",
            "Selisih Maju: 0.0\n",
            "Selisih Mundur: 0.0\n",
            "Selisih Pusat: 0.0\n",
            "\n",
            "Nilai h = 0.0001\n",
            "Turunan Pertama:\n",
            "Selisih Maju: 5.436835494165848\n",
            "Selisih Mundur: 5.436291837792595\n",
            "Selisih Pusat: 5.436563665979222\n",
            "\n",
            "Turunan Kedua:\n",
            "Selisih Maju: 0.0\n",
            "Selisih Mundur: 0.0\n",
            "Selisih Pusat: 0.0\n"
          ]
        }
      ]
    },
    {
      "cell_type": "markdown",
      "source": [],
      "metadata": {
        "id": "VSaSXVYYGrKh"
      }
    }
  ]
}