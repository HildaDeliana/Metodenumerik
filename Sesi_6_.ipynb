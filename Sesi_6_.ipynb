{
  "nbformat": 4,
  "nbformat_minor": 0,
  "metadata": {
    "colab": {
      "provenance": [],
      "authorship_tag": "ABX9TyMKbU0d/dSWfLinlJBjvfQl",
      "include_colab_link": true
    },
    "kernelspec": {
      "name": "python3",
      "display_name": "Python 3"
    },
    "language_info": {
      "name": "python"
    }
  },
  "cells": [
    {
      "cell_type": "markdown",
      "metadata": {
        "id": "view-in-github",
        "colab_type": "text"
      },
      "source": [
        "<a href=\"https://colab.research.google.com/github/HildaDeliana/Metodenumerik/blob/main/Sesi_6_.ipynb\" target=\"_parent\"><img src=\"https://colab.research.google.com/assets/colab-badge.svg\" alt=\"Open In Colab\"/></a>"
      ]
    },
    {
      "cell_type": "markdown",
      "source": [
        "Nama : Hilda Deliana A\n",
        "Nim : 20220040112\n",
        "KelS : TI22H"
      ],
      "metadata": {
        "id": "G4CTtb07Tzim"
      }
    },
    {
      "cell_type": "code",
      "execution_count": 1,
      "metadata": {
        "colab": {
          "base_uri": "https://localhost:8080/"
        },
        "id": "1aWjryZJTxpt",
        "outputId": "270fbc6d-d41d-4935-8529-187f54d5a2c9"
      },
      "outputs": [
        {
          "output_type": "stream",
          "name": "stdout",
          "text": [
            "Solusi SPL:\n",
            "x = 2.0\n",
            "y = 1.0\n",
            "z = 1.0\n"
          ]
        }
      ],
      "source": [
        "\n",
        "import numpy as np\n",
        "\n",
        "# Koefisien matriks SPL\n",
        "A = np.array([[2, 8, -1],\n",
        "              [5, -1, 1],\n",
        "              [-1, 1, 4]])\n",
        "\n",
        "# Vektor hasil\n",
        "B = np.array([11, 10, 3])\n",
        "\n",
        "# Menyelesaikan SPL\n",
        "X = np.linalg.solve(A, B)\n",
        "\n",
        "# Mencetak solusi\n",
        "print(\"Solusi SPL:\")\n",
        "print(\"x =\", X[0])\n",
        "print(\"y =\", X[1])\n",
        "print(\"z =\", X[2])"
      ]
    }
  ]
}